    "import sys, os\n",
    "sys.path.append(os.environ.get(\"NNUNET_PATH\", \"../nnUNet\"))"
